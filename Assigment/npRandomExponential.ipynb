{
 "cells": [
  {
   "cell_type": "code",
   "execution_count": 10,
   "metadata": {},
   "outputs": [],
   "source": [
    "import numpy as np"
   ]
  },
  {
   "cell_type": "code",
   "execution_count": 11,
   "metadata": {},
   "outputs": [],
   "source": [
    "import matplotlib.pyplot as plt #impot matplotlib"
   ]
  },
  {
   "cell_type": "code",
   "execution_count": 20,
   "metadata": {},
   "outputs": [],
   "source": [
    " n = np.random.standard_exponential((3, 80))"
   ]
  },
  {
   "cell_type": "code",
   "execution_count": 21,
   "metadata": {},
   "outputs": [
    {
     "name": "stdout",
     "output_type": "stream",
     "text": [
      "[[1.8845456  2.97528943 3.00600528 0.39093612 0.1620943  0.01560212\n",
      "  0.1132371  1.53279766 0.10234493 0.36051025 0.47320888 0.54776591\n",
      "  1.05185603 1.40105019 2.00433401 1.3929922  0.85575044 0.36795693\n",
      "  2.33395766 2.53052417 1.42982126 0.29613347 0.9199101  1.02696744\n",
      "  0.15698416 0.06527191 0.04890751 0.04518773 2.6281784  0.23107197\n",
      "  0.19296    1.38704155 2.07397327 0.45478363 0.1474553  3.99777096\n",
      "  0.22498428 1.91459531 1.01814824 1.04306169 0.81265615 0.59826465\n",
      "  0.13056704 1.20821118 0.14862643 0.28345053 0.06994181 1.79349298\n",
      "  0.72781413 3.58959964 0.45311497 0.68248382 0.30569124 0.4994173\n",
      "  1.0756885  0.51648572 0.67372659 0.5210678  0.36373193 1.30549579\n",
      "  0.0962262  0.20500945 1.43556401 0.0155645  0.53145906 0.6202243\n",
      "  1.32611556 0.24563541 0.01657709 1.92685322 0.1298332  1.42795516\n",
      "  0.0582525  0.0776929  2.43825072 2.37038702 1.16427818 0.46767992\n",
      "  0.95526384 0.70429687]\n",
      " [0.04012046 0.08052942 0.2560159  0.58755247 1.82542698 2.11010956\n",
      "  0.23300792 0.50659624 0.69660674 2.32353461 1.61652964 1.42298728\n",
      "  0.50259359 1.21220455 2.08241747 0.38853322 1.30271258 0.15160252\n",
      "  0.97433656 0.22518318 1.17759535 0.26996687 0.32566721 0.28753384\n",
      "  0.7965939  1.07389221 1.44031484 0.09156137 0.68832054 0.1389136\n",
      "  0.95407355 0.79999179 0.31786796 1.19385727 2.69432891 1.88016553\n",
      "  0.80861233 0.11227395 0.6236516  1.39705406 0.41942602 1.07334149\n",
      "  1.67275891 0.33177774 0.37896618 1.37362152 0.0835027  0.15934146\n",
      "  1.43808832 1.28797672 0.59962428 0.291939   0.8699629  0.59671059\n",
      "  2.81723485 1.06532121 0.02907995 2.5384161  1.92557295 0.04917181\n",
      "  1.19067543 1.47817199 0.39591739 1.05954785 2.89757524 0.28529144\n",
      "  1.00812867 0.48154772 0.21564817 0.42059686 0.77654809 0.49126243\n",
      "  0.90103858 0.92293486 0.95152706 0.4792254  1.77624669 0.02286969\n",
      "  0.31340959 0.06134132]\n",
      " [0.13115407 0.25666299 2.09064502 1.41992336 0.1016497  1.81201374\n",
      "  2.80026542 0.47063844 2.5165039  0.93481694 0.63570526 0.34070731\n",
      "  0.40724277 0.2301737  2.76236885 0.07089781 1.81897771 1.05158969\n",
      "  0.29280032 0.39341345 0.17697581 1.26819612 1.58359802 1.19480533\n",
      "  0.20337285 0.67354348 1.49074715 1.01808189 2.99123304 0.18539729\n",
      "  0.62078414 0.62911235 0.06029971 0.66850938 2.72986463 0.07982566\n",
      "  0.39527481 1.17965864 0.73624355 1.99360701 0.02325151 1.08251792\n",
      "  0.0137298  2.18639625 0.43661794 5.00758681 0.1624319  2.44776235\n",
      "  2.65815088 0.6442972  1.56547411 0.23155597 0.04741716 0.18865611\n",
      "  1.28835313 0.23690428 0.20069518 0.95850252 0.3888198  0.4228848\n",
      "  1.15965193 0.3210459  1.57834004 3.35604421 1.57262775 3.20677373\n",
      "  2.11934174 1.54918651 0.68380121 1.06538433 0.12812865 0.33803278\n",
      "  1.37194157 0.99261484 0.58803218 0.08353748 0.18336041 2.51193875\n",
      "  0.44919613 2.77221629]]\n"
     ]
    }
   ],
   "source": [
    "print(n)\n"
   ]
  },
  {
   "cell_type": "code",
   "execution_count": 14,
   "metadata": {},
   "outputs": [],
   "source": []
  },
  {
   "cell_type": "code",
   "execution_count": 19,
   "metadata": {},
   "outputs": [
    {
     "data": {
      "image/png": "[encoded data removed]",
      "text/plain": [
       "<Figure size 432x288 with 1 Axes>"
      ]
     },
     "metadata": {
      "needs_background": "light"
     },
     "output_type": "display_data"
    }
   ],
   "source": [
    "z =plt.hist(n)"
   ]
  },
  {
   "cell_type": "code",
   "execution_count": 22,
   "metadata": {},
   "outputs": [],
   "source": [
    "plt.show(z)"
   ]
  },
  {
   "cell_type": "code",
   "execution_count": null,
   "metadata": {},
   "outputs": [],
   "source": []
  }
 ],
 "metadata": {
  "kernelspec": {
   "display_name": "Python 3",
   "language": "python",
   "name": "python3"
  },
  "language_info": {
   "codemirror_mode": {
    "name": "ipython",
    "version": 3
   },
   "file_extension": ".py",
   "mimetype": "text/x-python",
   "name": "python",
   "nbconvert_exporter": "python",
   "pygments_lexer": "ipython3",
   "version": "3.7.6"
  }
 },
 "nbformat": 4,
 "nbformat_minor": 4
}
