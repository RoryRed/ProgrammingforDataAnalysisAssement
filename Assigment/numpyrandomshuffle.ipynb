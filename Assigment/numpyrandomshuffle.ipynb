{
 "cells": [
  {
   "cell_type": "code",
   "execution_count": 1,
   "metadata": {},
   "outputs": [],
   "source": [
    "import numpy as np # import numpy "
   ]
  },
  {
   "cell_type": "code",
   "execution_count": 2,
   "metadata": {},
   "outputs": [],
   "source": [
    "import matplotlib.pyplot as plt #impot matplotlib"
   ]
  },
  {
   "cell_type": "code",
   "execution_count": 19,
   "metadata": {},
   "outputs": [],
   "source": [
    "x = np.random.poisson(10, 20)\n",
    "# P(x; μ) = (e-μ) (μx) / x! \n",
    "# x = integer\n",
    "# μ = expected seperation\n",
    "#e = Eulers constant"
   ]
  },
  {
   "cell_type": "code",
   "execution_count": 20,
   "metadata": {},
   "outputs": [
    {
     "name": "stdout",
     "output_type": "stream",
     "text": [
      "[10 14  9  8 10  9  7  9  8  5  9 16 11 25  5  8 10  6 14 14]\n"
     ]
    }
   ],
   "source": [
    "print(x) # output of arrat "
   ]
  },
  {
   "cell_type": "code",
   "execution_count": 21,
   "metadata": {},
   "outputs": [
    {
     "data": {
      "text/plain": [
       "(array([3., 4., 7., 1., 3., 1., 0., 0., 0., 1.]),\n",
       " array([ 5.,  7.,  9., 11., 13., 15., 17., 19., 21., 23., 25.]),\n",
       " <a list of 10 Patch objects>)"
      ]
     },
     "execution_count": 21,
     "metadata": {},
     "output_type": "execute_result"
    },
    {
     "data": {
      "image/png": "[encoded data removed]",
      "text/plain": [
       "<Figure size 432x288 with 1 Axes>"
      ]
     },
     "metadata": {
      "needs_background": "light"
     },
     "output_type": "display_data"
    }
   ],
   "source": [
    "plt.hist(x) #creates histogram showing the distribusion\n",
    "#the largest numver of occurences are around 10\n",
    "plt.ylabel(\"integer\")\n",
    "plt.xlabel(\"occurences\")\n"
   ]
  },
  {
   "cell_type": "code",
   "execution_count": 8,
   "metadata": {},
   "outputs": [
    {
     "data": {
      "text/plain": [
       "numpy.ndarray"
      ]
     },
     "execution_count": 8,
     "metadata": {},
     "output_type": "execute_result"
    }
   ],
   "source": [
    "type(x) # gives the type of function"
   ]
  },
  {
   "cell_type": "code",
   "execution_count": 13,
   "metadata": {},
   "outputs": [],
   "source": [
    "y = np.random.poisson((50, 100.), size=(20, 2)) # gives 20 arrays of 2in size"
   ]
  },
  {
   "cell_type": "code",
   "execution_count": 14,
   "metadata": {},
   "outputs": [
    {
     "name": "stdout",
     "output_type": "stream",
     "text": [
      "[[ 50  80]\n",
      " [ 45 106]\n",
      " [ 55  93]\n",
      " [ 50  94]\n",
      " [ 51 100]\n",
      " [ 42  93]\n",
      " [ 57 101]\n",
      " [ 38  87]\n",
      " [ 45 102]\n",
      " [ 50 123]\n",
      " [ 45  95]\n",
      " [ 50  92]\n",
      " [ 52 106]\n",
      " [ 58 105]\n",
      " [ 55 107]\n",
      " [ 51 104]\n",
      " [ 55  99]\n",
      " [ 48 104]\n",
      " [ 49  75]\n",
      " [ 46 111]]\n"
     ]
    }
   ],
   "source": [
    "print(y) #output array"
   ]
  },
  {
   "cell_type": "code",
   "execution_count": 15,
   "metadata": {},
   "outputs": [
    {
     "data": {
      "text/plain": [
       "([array([6., 9., 5., 0., 0., 0., 0., 0., 0., 0.]),\n",
       "  array([0., 0., 0., 0., 2., 1., 5., 7., 4., 1.])],\n",
       " array([ 38. ,  46.5,  55. ,  63.5,  72. ,  80.5,  89. ,  97.5, 106. ,\n",
       "        114.5, 123. ]),\n",
       " <a list of 2 Lists of Patches objects>)"
      ]
     },
     "execution_count": 15,
     "metadata": {},
     "output_type": "execute_result"
    },
    {
     "data": {
      "image/png": "[encoded data removed]",
      "text/plain": [
       "<Figure size 432x288 with 1 Axes>"
      ]
     },
     "metadata": {
      "needs_background": "light"
     },
     "output_type": "display_data"
    }
   ],
   "source": [
    "plt.hist(s) # "
   ]
  },
  {
   "cell_type": "code",
   "execution_count": null,
   "metadata": {},
   "outputs": [],
   "source": [
    "#https://www.onlinemathlearning.com/image-files/poisson-distribution-formula.png\n",
    "#https://numpy.org/doc/stable/reference/random/generated/numpy.random.poisson.html"
   ]
  }
 ],
 "metadata": {
  "kernelspec": {
   "display_name": "Python 3",
   "language": "python",
   "name": "python3"
  },
  "language_info": {
   "codemirror_mode": {
    "name": "ipython",
    "version": 3
   },
   "file_extension": ".py",
   "mimetype": "text/x-python",
   "name": "python",
   "nbconvert_exporter": "python",
   "pygments_lexer": "ipython3",
   "version": "3.7.6"
  }
 },
 "nbformat": 4,
 "nbformat_minor": 4
}
