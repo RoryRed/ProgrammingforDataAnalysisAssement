{
 "cells": [
  {
   "cell_type": "code",
   "execution_count": 1,
   "metadata": {},
   "outputs": [],
   "source": [
    "import numpy as np\n"
   ]
  },
  {
   "cell_type": "code",
   "execution_count": 2,
   "metadata": {},
   "outputs": [],
   "source": [
    "import matplotlib.pyplot as plt #impot matplotlib"
   ]
  },
  {
   "cell_type": "code",
   "execution_count": 4,
   "metadata": {},
   "outputs": [],
   "source": [
    "y = np.random.standard_normal(400)"
   ]
  },
  {
   "cell_type": "code",
   "execution_count": 5,
   "metadata": {},
   "outputs": [
    {
     "data": {
      "text/plain": [
       "(400,)"
      ]
     },
     "execution_count": 5,
     "metadata": {},
     "output_type": "execute_result"
    }
   ],
   "source": [
    "y.shape\n"
   ]
  },
  {
   "cell_type": "code",
   "execution_count": 7,
   "metadata": {},
   "outputs": [
    {
     "name": "stdout",
     "output_type": "stream",
     "text": [
      "[ 7.67253151e-01  8.62925627e-01 -1.55723198e+00  1.08455338e+00\n",
      "  6.81326019e-01 -5.62672840e-01  2.71089347e+00  8.84068672e-02\n",
      " -1.36432189e+00  2.81071414e-02 -2.44132692e+00  3.79557178e-01\n",
      " -6.15500457e-01  1.20849056e+00 -6.22996290e-01  6.14813195e-01\n",
      " -1.55292708e+00 -7.03122241e-01 -3.43527203e-02  9.46150689e-01\n",
      " -4.03939184e-01 -1.41288164e+00 -8.24466098e-01  5.75679889e-02\n",
      "  4.82895803e-01  1.67687264e-01  9.99277525e-01 -8.55746122e-02\n",
      "  1.43482134e+00  2.19009930e-01  2.62579191e-01  3.62344672e-01\n",
      "  1.16942952e+00  1.38159985e-01 -1.50124321e+00  3.94081545e-02\n",
      "  9.84166528e-02 -1.39052635e+00  4.21632344e-01 -1.01512288e+00\n",
      " -1.97618474e-01 -2.01260964e+00 -1.70419731e-02 -2.74885055e-01\n",
      "  9.30159408e-02  4.19597108e-01  1.76686503e+00 -1.30555767e-01\n",
      " -7.75902592e-01 -8.16055620e-01  1.36602046e+00  1.63318571e-01\n",
      " -3.87960676e-01 -2.43572049e-01 -9.41712801e-01  5.82215725e-01\n",
      "  1.05619093e+00 -1.02946246e-01  1.34537738e+00 -1.05548771e-02\n",
      "  1.20977336e+00 -2.10014391e+00  1.38317735e+00  1.05647370e+00\n",
      " -2.40138637e-01 -6.08899193e-01 -8.35290575e-01 -1.29569496e-01\n",
      "  1.52312257e+00  9.10845848e-01 -2.29394182e-01 -1.25517933e+00\n",
      " -1.16940666e-01 -1.05427503e+00  4.89820084e-02 -1.36997037e+00\n",
      "  4.79263149e-01  3.87878602e-01 -3.18346886e-01  3.15321100e-02\n",
      " -6.91526200e-01 -6.73993485e-01  5.26244138e-01 -8.20078811e-01\n",
      "  1.58799563e+00  1.13437731e+00 -2.33672418e+00  4.13288136e-01\n",
      "  8.85303360e-01  1.07266752e+00  3.67254891e-01 -2.67640593e-01\n",
      "  5.91442099e-02  1.01228895e+00  8.85420671e-01 -4.92075967e-02\n",
      " -5.65616394e-01 -1.31437600e-01  1.15318473e+00 -4.92471353e-01\n",
      " -8.45885013e-01 -1.36905477e-02  2.40247617e-01 -8.44890028e-01\n",
      " -1.14901250e+00  1.56702081e-01 -1.60461197e+00  1.67074727e+00\n",
      " -1.49167587e-01 -3.47325229e-01  2.75939545e-01 -4.23339012e-01\n",
      "  1.70885826e+00  5.51158212e-01 -2.79505154e-01  2.78881486e-01\n",
      "  1.48730611e+00 -2.05772151e+00 -1.12308580e+00  6.82853056e-01\n",
      " -2.03790999e+00  9.78623477e-02 -1.46263226e+00  9.70394014e-01\n",
      " -7.14170548e-01 -3.94256796e-01  8.04421864e-01  7.49751033e-01\n",
      "  8.86230323e-01 -1.59791688e+00  7.27362309e-01 -5.35309082e-01\n",
      " -1.10764858e+00  2.02724788e-01 -2.19924207e-01 -4.95424630e-01\n",
      "  6.35773247e-01 -3.20992787e-01  2.09556620e+00  1.11704432e+00\n",
      " -2.97526955e-01 -2.40242643e+00 -6.40974813e-01 -2.33828441e+00\n",
      "  4.31011246e-01  4.64238532e-02  4.58861147e-01  3.28037166e-01\n",
      " -4.87466445e-01 -1.34966435e+00 -1.50961106e+00 -1.60467439e+00\n",
      " -7.82905739e-02  3.14227648e-01 -9.80240013e-01  3.18679133e-01\n",
      "  2.07671637e+00  1.05299957e+00 -9.03470181e-01 -1.50776103e+00\n",
      "  2.09128125e-01  4.03203899e-03  1.28326544e+00  4.91826081e-01\n",
      "  1.08623194e-01 -4.94607531e-01  9.45209337e-01  5.97841412e-01\n",
      "  5.06558183e-01  8.21793476e-01 -7.34863745e-02  1.46507446e+00\n",
      " -5.21132237e-01 -8.56931005e-01 -5.40941012e-01  1.09323780e+00\n",
      "  5.79470065e-01 -1.66795542e+00 -5.79198122e-01 -2.28320225e+00\n",
      "  6.15550078e-02  6.27015128e-01  9.55746481e-01  6.69204538e-01\n",
      "  8.72507760e-01  8.85295226e-01 -3.82551412e-01 -1.22315285e+00\n",
      " -1.07026151e+00 -3.41199011e-01 -8.00803808e-01 -8.57116925e-01\n",
      "  9.18093806e-01  4.99322630e-01 -4.03890023e-01  4.27274739e-01\n",
      "  2.03593795e-01 -2.26143036e+00 -9.06705094e-01 -1.72374088e+00\n",
      " -2.69220318e-01 -5.25238810e-01  2.40778182e-01  7.67372726e-01\n",
      "  9.39314056e-01 -1.27003870e-02  8.03222601e-01 -4.78220741e-01\n",
      " -1.41253620e+00  1.43406112e+00 -5.73808944e-01 -7.41559787e-01\n",
      " -6.46710288e-01  6.10074552e-01  2.57522822e+00  4.86939295e-01\n",
      " -2.57229548e-01 -1.30780497e+00  6.35690131e-01  9.60377729e-01\n",
      " -3.24786322e-01  9.32287799e-01 -7.83050343e-01  2.71637028e-01\n",
      "  6.70037374e-01 -3.18844704e-01  1.75424417e+00 -7.80717416e-01\n",
      " -7.03253899e-01  5.43738487e-01 -7.94758946e-01  6.49807282e-01\n",
      " -1.35389922e-01  2.57575073e-01 -1.10177835e-01  4.48263590e-01\n",
      " -4.40794512e-01  5.81716964e-01  1.03854242e+00 -5.42790994e-01\n",
      "  8.95851025e-01  5.52468466e-01  1.48248782e+00  8.99156312e-01\n",
      " -2.47839385e-01  1.41307078e-01  3.73406761e-01 -6.22187033e-01\n",
      "  4.45360517e-01 -1.11234409e+00  8.47414578e-01 -8.90405527e-01\n",
      " -5.72864359e-02  3.54377013e-01  3.12258554e-01 -9.51137582e-02\n",
      "  2.01312437e+00 -1.85178622e+00  1.44670797e+00 -1.45035126e+00\n",
      "  8.92903728e-01 -9.11598127e-01 -3.66144013e-01  4.03786776e-01\n",
      " -5.77192151e-01  6.33033839e-01  1.60764568e+00  4.63559084e-01\n",
      "  2.00042236e+00  2.58875131e+00 -3.64328714e-02  6.37214633e-02\n",
      "  9.39167278e-01  1.48376408e-01  2.22744641e-01 -9.64054508e-01\n",
      " -9.92852668e-01 -1.66043950e+00 -4.20456338e-01 -4.83744564e-01\n",
      " -1.07137306e+00  3.04079196e-01 -4.35658436e-01  5.59201262e-01\n",
      " -2.07836191e+00  6.79877996e-01 -7.60884647e-01 -8.05287443e-01\n",
      " -6.13798226e-01 -5.70207665e-01 -4.58304512e-02  8.49300742e-01\n",
      " -6.64508585e-01  3.32019642e-01 -4.43166381e-01 -1.05586810e-01\n",
      "  7.87103658e-01  7.79381451e-01  2.97588091e-01  1.07174162e+00\n",
      " -1.47037138e+00  2.18905113e-01 -7.27473185e-01 -6.84306949e-01\n",
      " -6.96863484e-01  1.24924837e+00  1.14462875e+00  7.58141973e-01\n",
      " -9.45169965e-01  1.50461234e+00 -1.67167883e+00 -4.12205061e-01\n",
      " -1.30830751e-02  2.11470875e+00 -4.15592796e-02 -9.02749277e-02\n",
      " -7.15404898e-01 -1.42747185e+00  1.11379802e+00  2.44867796e-01\n",
      " -1.50818286e+00 -5.97384010e-01  1.80035609e-01 -9.89510360e-01\n",
      " -1.08501435e+00 -1.82325033e+00 -4.03859113e-01 -1.27340203e+00\n",
      " -5.96386896e-01  1.08819509e+00 -8.23532083e-01 -9.48399514e-01\n",
      " -3.92375716e-01  8.17685498e-01  5.57923185e-01 -1.71751288e+00\n",
      "  2.13000723e+00  1.51092709e+00 -1.56760793e+00 -1.63039174e+00\n",
      "  2.86107293e-01  2.77474340e-01 -9.25914265e-01  3.38754758e-01\n",
      "  2.60937733e-01  1.03325046e+00 -6.19128525e-01 -4.43033541e-01\n",
      " -9.20671672e-01 -9.94712256e-01 -1.70587077e+00  1.02199729e-01\n",
      "  5.24254635e-01 -2.74007933e-01  9.41565863e-01  1.74591093e+00\n",
      "  5.55425709e-01  5.35076581e-01  7.64301603e-01  1.56576624e+00\n",
      "  7.97638809e-02  7.27437497e-01  1.02208963e-01  7.19958383e-04\n",
      "  9.92588685e-01  2.19494236e-01  9.60424149e-01  1.21254132e+00\n",
      " -3.98345591e-02  1.54654225e-01 -1.06176990e+00 -5.30962856e-02\n",
      "  2.59998142e-01 -9.31353132e-01  8.79780137e-01  9.23853610e-01\n",
      " -2.01928002e+00  7.68302658e-01  9.78003690e-01  1.58561956e+00\n",
      " -8.89290034e-01  1.10794584e+00  1.28889146e-02 -5.06066592e-01\n",
      " -1.34429307e+00 -1.19689148e-01 -7.39237003e-01  9.10793533e-01\n",
      "  1.55573638e+00  1.44477019e+00  1.26829697e+00  4.61025660e-01\n",
      " -1.03397976e+00 -8.49544949e-01 -2.78761411e+00  1.27135874e+00\n",
      " -8.19107594e-02  1.19584533e+00 -3.22151511e-01  1.92537475e+00]\n"
     ]
    }
   ],
   "source": [
    "print(y)\n"
   ]
  },
  {
   "cell_type": "code",
   "execution_count": 8,
   "metadata": {},
   "outputs": [
    {
     "data": {
      "text/plain": [
       "(array([ 7., 11., 30., 65., 75., 85., 74., 38., 12.,  3.]),\n",
       " array([-2.78761411, -2.23776335, -1.68791259, -1.13806183, -0.58821108,\n",
       "        -0.03836032,  0.51149044,  1.0613412 ,  1.61119196,  2.16104272,\n",
       "         2.71089347]),\n",
       " <a list of 10 Patch objects>)"
      ]
     },
     "execution_count": 8,
     "metadata": {},
     "output_type": "execute_result"
    },
    {
     "data": {
      "image/png": "[encoded data removed]",
      "text/plain": [
       "<Figure size 432x288 with 1 Axes>"
      ]
     },
     "metadata": {
      "needs_background": "light"
     },
     "output_type": "display_data"
    }
   ],
   "source": [
    "plt.hist(y)"
   ]
  },
  {
   "cell_type": "code",
   "execution_count": null,
   "metadata": {},
   "outputs": [],
   "source": []
  }
 ],
 "metadata": {
  "kernelspec": {
   "display_name": "Python 3",
   "language": "python",
   "name": "python3"
  },
  "language_info": {
   "codemirror_mode": {
    "name": "ipython",
    "version": 3
   },
   "file_extension": ".py",
   "mimetype": "text/x-python",
   "name": "python",
   "nbconvert_exporter": "python",
   "pygments_lexer": "ipython3",
   "version": "3.7.6"
  }
 },
 "nbformat": 4,
 "nbformat_minor": 4
}
