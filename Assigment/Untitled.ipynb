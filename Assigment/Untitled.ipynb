{
 "cells": [
  {
   "cell_type": "code",
   "execution_count": 1,
   "metadata": {},
   "outputs": [],
   "source": [
    "import numpy as np #importing numpy software"
   ]
  },
  {
   "cell_type": "code",
   "execution_count": 48,
   "metadata": {},
   "outputs": [],
   "source": [
    "import matplotlib.pyplot as plt #impot matplotlib"
   ]
  },
  {
   "cell_type": "code",
   "execution_count": 34,
   "metadata": {},
   "outputs": [],
   "source": [
    "dice1 =  np.random.randint(20, size = 600 ) #rolling a 20 sided dice 600 times "
   ]
  },
  {
   "cell_type": "code",
   "execution_count": 19,
   "metadata": {},
   "outputs": [],
   "source": [
    "dice =  np.random.randint(20, size = 600 ) #rolling a 20 sided dice 600 times "
   ]
  },
  {
   "cell_type": "code",
   "execution_count": 36,
   "metadata": {},
   "outputs": [
    {
     "name": "stdout",
     "output_type": "stream",
     "text": [
      "[3 5 5 5 0 1 5 0 2 0 5 2 0 2 1 4 0 5 4 0 2 2 1 4 4 4 4 2 3 1 5 3 0 0 5 4 4\n",
      " 4 2 0 0 4 5 1 3 4 3 4 3 0 4 3 2 5 2 0 1 1 3 3 0 4 1 0 4 3 2 2 2 4 3 2 1 2\n",
      " 3 4 4 2 2 3 2 4 1 5 5 5 5 3 3 2 3 0 5 3 5 5 3 4 4 0 0 4 3 3 1 5 0 1 1 1 5\n",
      " 1 4 3 1 3 1 5 5 5 1 3 4 3 1 5 5 0 5 3 0 2 1 2 5 3 5 3 5 5 4 0 1 1 2 5 1 3\n",
      " 5 1 0 2 4 2 0 0 0 3 4 4 3 4 0 5 5 3 3 4 2 2 5 0 1 2 3 0 2 5 5 3 5 5 0 5 3\n",
      " 5 0 4 3 5 2 5 1 5 3 4 1 3 2 1 3 5 1 1 2 4 0 1 3 1 1 1 1 4 4 2 0 0 2 3 2 0\n",
      " 3 2 0 4 2 1 2 1 2 0 0 4 2 5 1 4 1 0 3 5 2 1 2 3 3 1 5 0 3 2 1 0 2 4 2 2 4\n",
      " 4 1 3 2 2 3 1 3 5 0 5 2 2 3 1 5 5 1 3 3 0 0 2 2 2 2 3 2 2 3 0 3 0 0 4 5 3\n",
      " 4 2 3 0 4 2 0 3 5 2 3 2 1 3 4 5 1 5 5 5 5 5 5 3 0 2 1 3 0 0 3 4 3 1 1 2 2\n",
      " 4 2 2 3 3 5 3 3 5 2 0 1 0 0 1 2 3 1 1 5 0 0 0 2 2 1 1 5 2 1 5 5 1 0 3 3 4\n",
      " 2 3 3 1 4 5 1 4 3 5 2 3 4 2 1 3 3 2 2 3 2 3 3 4 3 4 0 3 1 3 3 4 5 0 3 5 5\n",
      " 5 4 4 3 4 5 1 0 2 4 4 1 0 3 1 0 4 0 5 0 3 5 4 2 3 1 3 4 2 1 2 0 1 2 0 4 3\n",
      " 5 0 5 0 3 2 2 4 0 5 3 0 5 4 3 4 3 3 5 3 5 3 3 1 1 0 2 2 3 1 3 1 3 5 0 3 1\n",
      " 1 5 1 1 0 5 4 3 5 1 3 2 2 3 4 5 2 0 2 0 2 4 3 3 3 4 2 3 2 5 0 0 5 5 0 4 1\n",
      " 0 3 5 3 2 3 2 2 1 0 4 3 4 3 2 1 2 5 3 2 5 0 3 5 3 0 3 5 0 3 2 2 1 0 2 1 4\n",
      " 5 0 2 0 1 5 1 1 5 2 0 5 4 4 4 4 5 2 3 5 5 5 0 2 0 5 5 1 5 1 0 2 3 0 5 2 0\n",
      " 0 1 5 5 0 5 2 5]\n"
     ]
    }
   ],
   "source": [
    "print( dice)"
   ]
  },
  {
   "cell_type": "code",
   "execution_count": 37,
   "metadata": {},
   "outputs": [
    {
     "name": "stdout",
     "output_type": "stream",
     "text": [
      "[19 15  4  4 19  6  7  4  0 15  6 19 19 10 19 10 16 13  7 18  7 10 18  6\n",
      " 18  0  3  0  5  0 17 15 11 14  2  2 12  7 15  6  8  8 11 15 16  7  7 19\n",
      " 14 13  8 11  7  5 17 11 10 17  5 17  6 13 12 11 15  5 15  6  2 16  5 17\n",
      "  1 12  9 19 16 14  6 11  5  5 17 16 14  6 13 17 12 14 14 16 13 19  2 14\n",
      " 18 11 10  2 13  9  0 19 12 14  5  6  8  5  1  5 15  0  3 15 11  0 15 17\n",
      "  6  2  5 17  0  5  6  8 19  3 14 14 19 18  2  2  8 10 12 12  2  9  5 15\n",
      " 14  0 18  2 11 14 12 13 10  8 12 17  7  1  5  0  5  2  2  5  8  1 19 16\n",
      "  1 19 16 11 12 17 16  3 15 17  5  1 16 15 11  1  3  5 16  6  4 14 14  7\n",
      " 12  4  3 15  5 15  9 10 12  2  6  7 11 14  4  3 19 11  7  1  2  7 19  5\n",
      " 18 11  9 10  7  7 16  2 12  9 10 17  8 14  4 15  7  0  8 14 18  9 16  3\n",
      " 14 17 12  5 19 15  3 15  9  2 18  5 17  1 13 17  1  0 16  2  4 14  4  9\n",
      " 15  2  6 15  0 14  9 10 12  3  2 17 10 19  1 18  7 18 13 12 14 15 17 16\n",
      "  1 14 15  0 11  4  8 14  4 18  7 15 16 18 19 12 17 14  6 15  6 10  2  1\n",
      " 18  3  8  3  1 19  4  8  1  9  0 13  7 14 19  2  8  8 12 10  8  4  4  4\n",
      "  7 11  4  8  8 13 10  6 12  3  9  8 10  5 16  3  9  8 15  6 19 13  2  0\n",
      "  7 18  3  6 19 16  7 17 11 13 13 18  8  3  0  4 19 12 12  9 10 16  7  5\n",
      " 16  5 14 18 13 14 16  0  9  6 19  4 13 15  6  5 17  5  9 18  2 12  4  6\n",
      " 16 13 18 19 13 11 13  7  8  8 14 10 11  1 15  9 15  5  7  5  5  9 16  9\n",
      "  2 18  1 18 12 18 10 11 16  9  8 13  8  8 14  4  9 10 18 10  3 10 15  9\n",
      " 12 19  5  6  8 14  1 10  0  3  7 18  7  9  2 17  5 14 12 16 13 18  4 10\n",
      "  7 15 13 13  1 11 14  9 15 15  3 10  6 13 16  6  3  0 12  6  7  5 12  8\n",
      "  2  1 16  7 19 11  3 14 16  7 12  0 14 16  2  1  5 18 14  2  2  2  4 13\n",
      "  1 11  1  1 13  1  5  3 17 13  1 11 19  2  1  3 13 15 19  6 17  9  8  4\n",
      " 11  5 12 18 14 14  8  0  1 14  1  5  0 10  2  2  2 15 16 18 13 13 16  5\n",
      "  8  8  6  1 12  3  9  6 18  1 10  5  8  8  4  4 10 14  3  2  6 13  7  0]\n"
     ]
    }
   ],
   "source": [
    "print(dice1)"
   ]
  },
  {
   "cell_type": "code",
   "execution_count": 39,
   "metadata": {},
   "outputs": [],
   "source": [
    "combineddice =dice1 + dice"
   ]
  },
  {
   "cell_type": "code",
   "execution_count": 40,
   "metadata": {},
   "outputs": [
    {
     "name": "stdout",
     "output_type": "stream",
     "text": [
      "[22 20  9  9 19  7 12  4  2 15 11 21 19 12 20 14 16 18 11 18  9 12 19 10\n",
      " 22  4  7  2  8  1 22 18 11 14  7  6 16 11 17  6  8 12 16 16 19 11 10 23\n",
      " 17 13 12 14  9 10 19 11 11 18  8 20  6 17 13 11 19  8 17  8  4 20  8 19\n",
      "  2 14 12 23 20 16  8 14  7  9 18 21 19 11 18 20 15 16 17 16 18 22  7 19\n",
      " 21 15 14  2 13 13  3 22 13 19  5  7  9  6  6  6 19  3  4 18 12  5 20 22\n",
      "  7  5  9 20  1 10 11  8 24  6 14 16 20 20  7  5 13 13 17 17  6  9  6 16\n",
      " 16  5 19  5 16 15 12 15 14 10 12 17  7  4  9  4  8  6  2 10 13  4 22 20\n",
      "  3 21 21 11 13 19 19  3 17 22 10  4 21 20 11  6  6 10 16 10  7 19 16 12\n",
      " 13  9  6 19  6 18 11 11 15  7  7  8 13 18  4  4 22 12  8  2  3 11 23  7\n",
      " 18 11 11 13  9  7 19  4 12 13 12 18 10 15  6 15  7  4 10 19 19 13 17  3\n",
      " 17 22 14  6 21 18  6 16 14  2 21  7 18  1 15 21  3  2 20  6  5 17  6 11\n",
      " 18  3  9 20  0 19 11 12 15  4  7 22 11 22  4 18  7 20 15 14 16 18 19 18\n",
      "  4 14 18  0 11  8 13 17  8 20 10 15 20 20 19 15 22 16  9 17  7 13  6  6\n",
      " 19  8 13  8  6 24  9 11  1 11  1 16  7 14 22  6 11  9 13 12 10  8  6  6\n",
      " 10 14  9 11 11 18 12  6 13  3  9  9 12  8 17  4 14  8 15  6 21 15  3  1\n",
      " 12 20  4 11 24 17  7 20 14 17 15 21 11  4  4  9 20 16 15 14 12 19 11  7\n",
      " 17  8 17 20 15 17 18  3 12 10 22  8 13 18  7  8 20  9 14 18  5 17  9 11\n",
      " 20 17 21 23 18 12 13  9 12 12 15 10 14  2 15 13 15 10  7  8 10 13 18 12\n",
      "  3 21  5 20 13 20 10 12 18  9 12 16 13  8 19  4 12 12 20 14  3 15 18  9\n",
      " 17 23  8 10 11 17  6 13  5  6 10 19  8  9  4 19  8 15 15 17 16 23  4 13\n",
      "  8 16 18 14  2 11 19 13 18 20  4 13  8 15 19 10  8  2 12  8  7  7 16 11\n",
      "  5  4 20  9 22 13  8 14 16 12 17  0 18 17  2  4 10 21 16  5  4  4  5 13\n",
      "  5 14  5  4 15  2  7  8 20 15  6 11 22  7  4  3 16 20 19  9 19 11  9  4\n",
      " 13  6 16 23 14 16  8  1  6 15  2 10  2 10  7  6  6 19 20 23 15 16 21 10\n",
      " 13  8  8  1 17  8 10 11 19  1 12  8  8 13  6  4 10 15  8  7  6 18  9  5]\n"
     ]
    }
   ],
   "source": [
    "print(combineddice)"
   ]
  },
  {
   "cell_type": "code",
   "execution_count": 49,
   "metadata": {},
   "outputs": [
    {
     "data": {
      "image/png": "[encoded data removed]",
      "text/plain": [
       "<Figure size 432x288 with 1 Axes>"
      ]
     },
     "metadata": {
      "needs_background": "light"
     },
     "output_type": "display_data"
    }
   ],
   "source": [
    "x = plt.hist (combineddice, 39)"
   ]
  },
  {
   "cell_type": "code",
   "execution_count": 50,
   "metadata": {},
   "outputs": [],
   "source": [
    "plt.show(x)"
   ]
  },
  {
   "cell_type": "code",
   "execution_count": null,
   "metadata": {},
   "outputs": [],
   "source": []
  }
 ],
 "metadata": {
  "kernelspec": {
   "display_name": "Python 3",
   "language": "python",
   "name": "python3"
  },
  "language_info": {
   "codemirror_mode": {
    "name": "ipython",
    "version": 3
   },
   "file_extension": ".py",
   "mimetype": "text/x-python",
   "name": "python",
   "nbconvert_exporter": "python",
   "pygments_lexer": "ipython3",
   "version": "3.7.6"
  }
 },
 "nbformat": 4,
 "nbformat_minor": 4
}
