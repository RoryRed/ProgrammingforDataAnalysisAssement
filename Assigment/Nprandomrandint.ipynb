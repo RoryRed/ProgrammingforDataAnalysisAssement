{
 "cells": [
  {
   "cell_type": "code",
   "execution_count": 4,
   "metadata": {},
   "outputs": [],
   "source": [
    "import numpy as np #importing numpy software"
   ]
  },
  {
   "cell_type": "code",
   "execution_count": 5,
   "metadata": {},
   "outputs": [],
   "source": [
    "import matplotlib.pyplot as plt #impot matplotlib"
   ]
  },
  {
   "cell_type": "code",
   "execution_count": 6,
   "metadata": {},
   "outputs": [],
   "source": [
    "dice1 =  np.random.randint(20, size = 600 ) #rolling a 20 sided dice 600 times "
   ]
  },
  {
   "cell_type": "code",
   "execution_count": 7,
   "metadata": {},
   "outputs": [],
   "source": [
    "dice =  np.random.randint(20, size = 600 ) #rolling a 20 sided dice 600 times "
   ]
  },
  {
   "cell_type": "code",
   "execution_count": 8,
   "metadata": {},
   "outputs": [
    {
     "name": "stdout",
     "output_type": "stream",
     "text": [
      "[12 17 17 12 17  4  1  0  6  5 18 14 13  5 13  9 11 17 16 12  6 11  7  1\n",
      "  7  1 18 12  5  5 18 19 12 10 18  0 11  4  2 17 13 10  8 11  7  5  1 13\n",
      " 10  5  4  1  9  3  4 16  5 15  5 16 10  0  8  4  4 15  2  6 12  9  6 16\n",
      "  5  9 12 13 19 18 19  1 11  4 14  9  0 17 11 13 12  2 16  5 18 17  9  7\n",
      "  1  2 19  9  3  0  8  7  0  6 18  5 19  9 16  1 14 16 10 10 11  8  0 16\n",
      "  4 15  3  6 13  3 10  7  2 10  4 12  1 17  2 13  8 12 11  2  9 12  8  5\n",
      "  4  3  7  7 16  6  7 15  3 13  4 16  2  0  7  5 17  6 17  9 19 17  6 18\n",
      " 19  6 19 10 18  3 18  1 17 17 16  4 12 16 11 12 13 15 10  9 10 19  9 10\n",
      "  4 15  7  9  4  0 19 11 17  7  4 10 10 19  4  5  8 13  7  4 10  5 15 12\n",
      " 15  8 19 11 13 13  6  6  9 19  4  4 10  8  1 15 19  3  9 16 19  0 16 11\n",
      " 12 15 17  0  4 14  3  7  7 14 15  5  5 18 10  7 14 17 18 19  0 17  7  9\n",
      " 13  7 14  8 14  9  4 19  5  4  1 16 14 18 13 11  9  0 11 11  9  2 14  0\n",
      "  8 18 16 14  7 14 13 13  9 16  5  7 14 13  0  1 18  3  9  0 11  0 11 18\n",
      "  2 17  0  0 17  4  7 18  8  2 13  3 19  5  1  8 14 16  9  0 17  5 19  5\n",
      " 13  4  1 18  8 13  7 17  0 18 19  6  1  9  4  0 18 14  4  0  4 16  3  3\n",
      "  4 19  1  4  7  4  0 16 15 14 18  1 19  4  5 10 14  2  8  6 15 16 13  8\n",
      "  3  4  2  0  9 12  1  5 10  6  8  5  9 11  8  8 10  8  6 18 12  9  7 12\n",
      "  1  6  1  3  6  0  9  5  8 15  5  0  3 17 13  1 15 13 18 12 16 11 18 14\n",
      " 11  8 14  4  0  4 15  8  6  3 17 10  0  4 13  2  1 13  1 17 16 17  6 19\n",
      "  5 18 11  1  6 16 17 14  6 12  3  1 13 16 17 10 12 18 16  1 12 16 10  0\n",
      "  1  7 16 19  9 18  8  4 18  0  4 11  3 19  5  3  0 13  2  7  5  3  4 15\n",
      "  0  1 12  1  7  7 11 19 14  8  7 18 19  9  8 14  6  0  5 12  2  2  6 11\n",
      " 10 16  7  9 17  5  2  3  2  9 15 12 14  3  0  9 11 16 17  3  5 18  7 11\n",
      " 12  7  5 10 13 12 14  8 14 13  1 10 18  7 17  7  8 12 13  4  1 19  4  7\n",
      "  7  5 19 10  2 19  4 10 17 17 11 12 15  4 17  8  3  0  6  8 10  2  3 17]\n"
     ]
    }
   ],
   "source": [
    "print( dice) #show the results of rolling a 20 sided dice 6000 time for dice"
   ]
  },
  {
   "cell_type": "code",
   "execution_count": 9,
   "metadata": {},
   "outputs": [
    {
     "name": "stdout",
     "output_type": "stream",
     "text": [
      "[ 9  3 19 13  4 17 13 16 13 12  8  1 16 11  9 16 18  6 17 17 10  3 19 19\n",
      "  7 11  3  2 19  7 15 13  4 12  4  8 18 16 16 11 11 16 12 11  2  3 11 16\n",
      "  2  9  4  5 10 13  5 16  1 15 18  3 18  5  2 12  8 14  5  8 11 19  5 13\n",
      "  5 16 19 16  2 18  3  1  0  4  5 14  6 18  0  0  7 18  0 14 15  0  5 19\n",
      " 15  5  1  8 10 12  8  5  9  1 15 15 19  0 15 15 15 18  8 11 17 14 13 12\n",
      "  3 13  9 11 10  6 14  3 13 13 13 16 11 17  1 15  4 11  3  9 12  6  3  2\n",
      "  9  4  4  7  5 12  5 17  4  9 14  5  6 11 11  5  9  2  4  5  9  0  1 18\n",
      " 12 12 13 19  4 12 11  6  4 18  7 12  6 14 13 17 11 13  2 14  6 10  8  0\n",
      " 19 19 13 19 12 11 18 17  1 17  8  5  3 10  5  1  6 13 12 10  0  5  0 10\n",
      "  4 11  1  5 17  5 18  5  6  7  7  4 13 19  2  2  9  2 14 18  9  1 16  2\n",
      "  1 18  3 10  6  2 15  9 12  6 12 19  9  8  2 12 17  5 12 11 19 14 12 17\n",
      "  5 13  6 11  4  6  9 18 15  8 10 13 14 10  7 14  1 12 19  7 19  0  0 15\n",
      "  5  6  1  3 10 13  3 19 14  1  2 12  0 14 15  5  2 18  3  2  3 10  2  2\n",
      " 14 17 18  7 13  3  8  3  2 17  9  4  0  6  2 11 17  9  2 18 16  6  4 10\n",
      "  3 11 12  6  1  0 17  9 19 13  4  3  3 15  5 10  8  0  6  1  9  3 10 10\n",
      "  2  5  7 14 12  0 11 16 18 13 15 18 13  9 14  4  9  0  3  8  6 14  2 19\n",
      " 10  1 14  6  2  7 14  7 16 11  2  1 12 13  5 13  8  0 10  7  7  6 18 19\n",
      "  1  7  7 17 12 12 18  6 13 13 17  9 18 13 10 16 17  4  3 18 12 12  5  0\n",
      " 17  7  0 11  7 18 14 15  3  0 18 13  9 12  8  5 11  2 13 16  3  2  9  9\n",
      " 12 15 19  7  6 18 18  5 13 11  0  7  8 10 19  0 13 18  8 16 10  2  0 19\n",
      "  1 11  3 10 19  4  0  0  1  1 16 10 10 12 15  4 18  6  1 16  6 13 18  6\n",
      "  3  4 16 17 16  3  2 18 17 19  6  7  3  7  8  9  4  8  2  3 11  0  5 12\n",
      "  7  0 14 17 17 13 16 13  7 19 16 14 19  7 15 17 14  1 17  1 17  3  2  4\n",
      " 10 12 13  6 15  4  5  1 12  0  5 10  1  5  6  8  1 15 10 19 19  3 19 12\n",
      "  2  9 19  6  3  9  4 11 11 11  4  2  1  9 10 13 15  1 11  7  4 19 18  7]\n"
     ]
    }
   ],
   "source": [
    "print(dice1) #show the results of rolling a 20 sided dice 6000 time for dice 1"
   ]
  },
  {
   "cell_type": "code",
   "execution_count": 10,
   "metadata": {},
   "outputs": [],
   "source": [
    "combineddice =dice1 + dice # combining the number for dice rolls "
   ]
  },
  {
   "cell_type": "code",
   "execution_count": 11,
   "metadata": {},
   "outputs": [
    {
     "name": "stdout",
     "output_type": "stream",
     "text": [
      "[21 20 36 25 21 21 14 16 19 17 26 15 29 16 22 25 29 23 33 29 16 14 26 20\n",
      " 14 12 21 14 24 12 33 32 16 22 22  8 29 20 18 28 24 26 20 22  9  8 12 29\n",
      " 12 14  8  6 19 16  9 32  6 30 23 19 28  5 10 16 12 29  7 14 23 28 11 29\n",
      " 10 25 31 29 21 36 22  2 11  8 19 23  6 35 11 13 19 20 16 19 33 17 14 26\n",
      " 16  7 20 17 13 12 16 12  9  7 33 20 38  9 31 16 29 34 18 21 28 22 13 28\n",
      "  7 28 12 17 23  9 24 10 15 23 17 28 12 34  3 28 12 23 14 11 21 18 11  7\n",
      " 13  7 11 14 21 18 12 32  7 22 18 21  8 11 18 10 26  8 21 14 28 17  7 36\n",
      " 31 18 32 29 22 15 29  7 21 35 23 16 18 30 24 29 24 28 12 23 16 29 17 10\n",
      " 23 34 20 28 16 11 37 28 18 24 12 15 13 29  9  6 14 26 19 14 10 10 15 22\n",
      " 19 19 20 16 30 18 24 11 15 26 11  8 23 27  3 17 28  5 23 34 28  1 32 13\n",
      " 13 33 20 10 10 16 18 16 19 20 27 24 14 26 12 19 31 22 30 30 19 31 19 26\n",
      " 18 20 20 19 18 15 13 37 20 12 11 29 28 28 20 25 10 12 30 18 28  2 14 15\n",
      " 13 24 17 17 17 27 16 32 23 17  7 19 14 27 15  6 20 21 12  2 14 10 13 20\n",
      " 16 34 18  7 30  7 15 21 10 19 22  7 19 11  3 19 31 25 11 18 33 11 23 15\n",
      " 16 15 13 24  9 13 24 26 19 31 23  9  4 24  9 10 26 14 10  1 13 19 13 13\n",
      "  6 24  8 18 19  4 11 32 33 27 33 19 32 13 19 14 23  2 11 14 21 30 15 27\n",
      " 13  5 16  6 11 19 15 12 26 17 10  6 21 24 13 21 18  8 16 25 19 15 25 31\n",
      "  2 13  8 20 18 12 27 11 21 28 22  9 21 30 23 17 32 17 21 30 28 23 23 14\n",
      " 28 15 14 15  7 22 29 23  9  3 35 23  9 16 21  7 12 15 14 33 19 19 15 28\n",
      " 17 33 30  8 12 34 35 19 19 23  3  8 21 26 36 10 25 36 24 17 22 18 10 19\n",
      "  2 18 19 29 28 22  8  4 19  1 20 21 13 31 20  7 18 19  3 23 11 16 22 21\n",
      "  3  5 28 18 23 10 13 37 31 27 13 25 22 16 16 23 10  8  7 15 13  2 11 23\n",
      " 17 16 21 26 34 18 18 16  9 28 31 26 33 10 15 26 25 17 34  4 22 21  9 15\n",
      " 22 19 18 16 28 16 19  9 26 13  6 20 19 12 23 15  9 27 23 23 20 22 23 19\n",
      "  9 14 38 16  5 28  8 21 28 28 15 14 16 13 27 21 18  1 17 15 14 21 21 24]\n"
     ]
    }
   ],
   "source": [
    "print(combineddice) # shows the results of of combing the two dice rolls "
   ]
  },
  {
   "cell_type": "code",
   "execution_count": 14,
   "metadata": {},
   "outputs": [
    {
     "data": {
      "text/plain": [
       "Text(0.5, 0, 'Combined Dice Rolls')"
      ]
     },
     "execution_count": 14,
     "metadata": {},
     "output_type": "execute_result"
    },
    {
     "data": {
      "image/png": "[encoded data removed]",
      "text/plain": [
       "<Figure size 432x288 with 1 Axes>"
      ]
     },
     "metadata": {
      "needs_background": "light"
     },
     "output_type": "display_data"
    }
   ],
   "source": [
    "x = plt.hist (combineddice)\n",
    "plt.ylabel(\"Number of Occurences\")\n",
    "plt.xlabel(\"Combined Dice Rolls\")"
   ]
  },
  {
   "cell_type": "code",
   "execution_count": 50,
   "metadata": {},
   "outputs": [],
   "source": [
    "plt.show(x)\n"
   ]
  },
  {
   "cell_type": "code",
   "execution_count": null,
   "metadata": {},
   "outputs": [],
   "source": []
  }
 ],
 "metadata": {
  "kernelspec": {
   "display_name": "Python 3",
   "language": "python",
   "name": "python3"
  },
  "language_info": {
   "codemirror_mode": {
    "name": "ipython",
    "version": 3
   },
   "file_extension": ".py",
   "mimetype": "text/x-python",
   "name": "python",
   "nbconvert_exporter": "python",
   "pygments_lexer": "ipython3",
   "version": "3.7.6"
  }
 },
 "nbformat": 4,
 "nbformat_minor": 4
}
